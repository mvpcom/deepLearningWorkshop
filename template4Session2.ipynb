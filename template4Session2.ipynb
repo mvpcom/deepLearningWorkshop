{
 "cells": [
  {
   "cell_type": "markdown",
   "metadata": {},
   "source": [
    "##### <h1>Deep Learning Workshop</h1>\n",
    "<br>\n",
    "<a href=\"http://home.cse.shirazu.ac.ir/~m.valipour/\">Mojtaba Valipour</a> @ Shiraz University\n",
    "\n",
    "<h5> Template Code for Session 2 </h5>\n",
    "<div style=\"width: 200px; float:right;margin:0 10px 10px 0\" markdown=\"1\">\n",
    "![tfImage](elements/images/kerasLogo.png)\n",
    "</div>\n",
    "<p><strong><span class=\"a\"></span></strong> <span class=\"b\"></span> <span></span></p>"
   ]
  },
  {
   "cell_type": "markdown",
   "metadata": {},
   "source": [
    "### NOT Important for now !!"
   ]
  },
  {
   "cell_type": "code",
   "execution_count": null,
   "metadata": {
    "collapsed": true
   },
   "outputs": [],
   "source": [
    "import matplotlib.pyplot as plt\n",
    "import matplotlib\n",
    "%matplotlib inline\n",
    "matplotlib.style.use('ggplot')"
   ]
  },
  {
   "cell_type": "code",
   "execution_count": null,
   "metadata": {
    "collapsed": true
   },
   "outputs": [],
   "source": [
    "# Helper Functions, don't bother yourself to learn them now\n",
    "from scipy.ndimage.measurements import label\n",
    "from skimage.measure import regionprops #, label\n",
    "\n",
    "def drawLabeledBBoxes(img, labels, scale):\n",
    "    for carNumber in range(1, labels[1]+1):\n",
    "        nonzero = (labels[0] == carNumber).nonzero()\n",
    "        \n",
    "        nonzeroy = np.array(nonzero[0])\n",
    "        nonzerox = np.array(nonzero[1])\n",
    "        \n",
    "        bbox = ((np.min(nonzerox), np.min(nonzeroy)), (np.max(nonzerox), np.max(nonzeroy)))\n",
    "        \n",
    "        p0l,p0r = bbox[0]\n",
    "        p1l,p1r = bbox[1]\n",
    "        p0l = np.int(p0l * scale)\n",
    "        p0r = np.int(p0r * scale)\n",
    "        p1l = np.int(p1l * scale)\n",
    "        p1r = np.int(p1r * scale)\n",
    "        \n",
    "        if p1r > (img.shape[0]/2 + 25): # ignore half of the image , I know it's SKY\n",
    "            cv2.rectangle(img, (p0l, p0r), (p1l, p1r), (0,0,255), 5)\n",
    "    return img\n",
    "\n",
    "def processImg(img):\n",
    "    heatmap = model.predict(img.reshape(1,img.shape[0],img.shape[1],img.shape[2]))\n",
    "    res1 = heatmap[0,:,:,0]\n",
    "    \n",
    "    res2 = res1>0.99\n",
    "    xx, yy = np.meshgrid(np.arange(heatmap.shape[2]),np.arange(heatmap.shape[1]))\n",
    "    x = (xx[res1>0.99])\n",
    "    y = (yy[res1>0.99])\n",
    "    res3 = np.copy(img)\n",
    "    for i,j in zip(x,y):\n",
    "        cv2.rectangle(res3, (i*8,j*8), (i*8+64,j*8+64), (0,0,255), 5)\n",
    "\n",
    "    res4Heatmap = cv2.resize(res2*255., (img.shape[1], img.shape[0]))\n",
    "    labels = label(res4Heatmap)\n",
    "    res4 = drawLabeledBBoxes(np.copy(img), labels, scale)\n",
    "    \n",
    "    return res1, res2, res3, res4 \n",
    "\n",
    "# find factors automatically\n",
    "def factorsFind(num, prefer=None):\n",
    "    if prefer is not None:\n",
    "        bestDivider = prefer\n",
    "        return bestDivider, int(num/bestDivider)\n",
    "    bestDivider = 1\n",
    "    for i in range(2,int(num/2)):\n",
    "        if num%i == 0:\n",
    "            bestDivider = i\n",
    "    return bestDivider, int(num/bestDivider)\n",
    "\n",
    "def plotSpecialTool(data,labels,samples2Visualize=12,factors=[2,6], figsize=(12,3), grayFlag=False, thr=0.0):\n",
    "    # samples2Visualize = 12 # sample 12 random number\n",
    "    # factors = [2,6] # indicate two factors for number of samples\n",
    "    assert np.prod(np.array(factors))==samples2Visualize, \"%rx%r is not equal to %r\" % (factors[0],factors[1],samples2Visualize)\n",
    "    figure = plt.figure(figsize=figsize)\n",
    "    nLimit = data.shape[0]\n",
    "    for i in range(1,samples2Visualize+1):\n",
    "        img = figure.add_subplot(factors[0],factors[1],i)\n",
    "        # randomly sample an image from train set\n",
    "        imgID = np.random.randint(nLimit-1)\n",
    "        image = data[imgID]    \n",
    "        image = image * 255.\n",
    "        \n",
    "        if grayFlag:\n",
    "            plt.imshow(image.reshape(image.shape[0],image.shape[1]), cmap=plt.get_cmap('gray'))\n",
    "        else:\n",
    "            plt.imshow(image+thr)\n",
    "        img.set_title(labels[imgID],fontsize=7)\n",
    "        plt.axis('off')"
   ]
  },
  {
   "cell_type": "markdown",
   "metadata": {},
   "source": [
    "### Load and visualize dataset"
   ]
  },
  {
   "cell_type": "code",
   "execution_count": null,
   "metadata": {
    "collapsed": false
   },
   "outputs": [],
   "source": [
    "import pickle\n",
    "X = pickle.load( open( \"xkerasData.p\", \"rb\" ) )\n",
    "y = pickle.load( open( \"ykerasData.p\", \"rb\" ) )"
   ]
  },
  {
   "cell_type": "code",
   "execution_count": null,
   "metadata": {
    "collapsed": false
   },
   "outputs": [],
   "source": [
    "import numpy as np\n",
    "numSample = 20\n",
    "factors = factorsFind(numSample, 10)[::-1]\n",
    "plotSpecialTool(X[y==1],np.ones(len(X[y==1])),samples2Visualize=numSample,factors=factors, figsize=(20,3),thr=0.0,grayFlag=False) \n",
    "plotSpecialTool(X[y==-1],np.zeros(len(X[y==-1])),samples2Visualize=numSample,factors=factors, figsize=(20,3),thr=0.0,grayFlag=False) "
   ]
  },
  {
   "cell_type": "markdown",
   "metadata": {},
   "source": [
    "### Split data to train and test set"
   ]
  },
  {
   "cell_type": "code",
   "execution_count": null,
   "metadata": {
    "collapsed": true
   },
   "outputs": [],
   "source": [
    "from sklearn.model_selection import train_test_split\n",
    "xTrain, xTest, yTrain, yTest = train_test_split(X, y, test_size=0.10)"
   ]
  },
  {
   "cell_type": "markdown",
   "metadata": {},
   "source": [
    "### Define a Model in Keras"
   ]
  },
  {
   "cell_type": "code",
   "execution_count": null,
   "metadata": {
    "collapsed": false
   },
   "outputs": [],
   "source": [
    "from keras.models import Sequential\n",
    "from keras.layers import Dense, Dropout, Activation, Flatten,Lambda\n",
    "from keras.layers import Convolution2D, MaxPooling2D\n",
    "from keras.utils import np_utils\n",
    "from keras import backend as K\n",
    "\n",
    "input_shape = xTrain[0].shape\n",
    "model = Sequential()\n",
    "model.add(Lambda(lambda x: x/127.5 - 1.,input_shape=input_shape, output_shape=input_shape))\n",
    "model.add(Convolution2D(10, 3, 3, activation='relu', name='conv1',input_shape=input_shape, border_mode=\"same\"))\n",
    "model.add(MaxPooling2D(pool_size=(8,8)))\n",
    "model.add(Dropout(0.25))\n",
    "model.add(Convolution2D(128,8,8,activation=\"relu\",name=\"dense1\")) \n",
    "model.add(Dropout(0.5))\n",
    "model.add(Convolution2D(1,1,1,name=\"dense2\", activation=\"tanh\"))\n",
    "model.add(Flatten()) "
   ]
  },
  {
   "cell_type": "code",
   "execution_count": null,
   "metadata": {
    "collapsed": false
   },
   "outputs": [],
   "source": [
    "model.compile(loss='mse',optimizer='adadelta',metrics=['accuracy'])\n",
    "model.summary()"
   ]
  },
  {
   "cell_type": "markdown",
   "metadata": {},
   "source": [
    "### Train a model in Keras"
   ]
  },
  {
   "cell_type": "code",
   "execution_count": null,
   "metadata": {
    "collapsed": false
   },
   "outputs": [],
   "source": [
    "model.fit(xTrain, yTrain, batch_size=128, nb_epoch=5, verbose=1, validation_data=(xTest, yTest))\n",
    "score = model.evaluate(xTest, yTest, verbose=0)\n",
    "print(score)\n",
    "model.save_weights(\"model.h5\")"
   ]
  },
  {
   "cell_type": "markdown",
   "metadata": {},
   "source": [
    "### Load weights and Test the final model in Keras "
   ]
  },
  {
   "cell_type": "code",
   "execution_count": null,
   "metadata": {
    "collapsed": false
   },
   "outputs": [],
   "source": [
    "from keras.models import Sequential\n",
    "from keras.layers import Dense, Dropout, Activation, Flatten,Lambda\n",
    "from keras.layers import Convolution2D, MaxPooling2D\n",
    "\n",
    "input_shape = [None, None, 3]\n",
    "model = Sequential()\n",
    "model.add(Lambda(lambda x: x/127.5 - 1.,input_shape=input_shape, output_shape=input_shape))\n",
    "\n",
    "# please replace the questions mark before run !\n",
    "model.add(Convolution2D(10, ?, ?, activation='relu', name='conv1',input_shape=input_shape, border_mode=\"same\"))\n",
    "model.add(MaxPooling2D(pool_size=(?,?)))\n",
    "model.add(Dropout(0.25))\n",
    "model.add(Convolution2D(?,8,8,activation=\"relu\",name=\"dense1\")) \n",
    "model.add(Dropout(0.5))\n",
    "model.add(Convolution2D(1,1,1,name=\"dense2\", activation=\"tanh\"))\n",
    "model.load_weights(\"model.h5\")"
   ]
  },
  {
   "cell_type": "code",
   "execution_count": null,
   "metadata": {
    "collapsed": true
   },
   "outputs": [],
   "source": [
    "# IF YOU want more: # model.add(Convolution2D(10, 3, 3, activation='relu', name='conv2',border_mode=\"same\"))"
   ]
  },
  {
   "cell_type": "markdown",
   "metadata": {},
   "source": [
    "### This is not important for now, Please use for result visualization"
   ]
  },
  {
   "cell_type": "code",
   "execution_count": null,
   "metadata": {
    "collapsed": false
   },
   "outputs": [],
   "source": [
    "# Beautiful Output after training\n",
    "\n",
    "%matplotlib inline\n",
    "import matplotlib.pylab as plt\n",
    "import cv2\n",
    "\n",
    "# Final Pipeline\n",
    "import glob\n",
    "import numpy as np\n",
    "import matplotlib.pyplot as plt\n",
    "\n",
    "directory = './test_images/*.jpg'\n",
    "globDir = glob.glob(directory)\n",
    "factors = factorsFind(len(globDir)*5,5)[::-1]\n",
    "print(len(globDir),factors)\n",
    "fig = plt.figure(figsize=(20, 15))\n",
    "counter = 1\n",
    "scale = 1\n",
    "\n",
    "for filename in globDir:\n",
    "    img = cv2.imread(filename)\n",
    "    img = cv2.cvtColor(img, eval('cv2.COLOR_BGR2{}'.format('RGB')))  \n",
    "    \n",
    "    imgProcess = img.astype(np.float32)#/255\n",
    "    \n",
    "    if scale != 1:\n",
    "        imgProcess = cv2.resize(imgProcess, (np.int(img.shape[1]/scale), np.int(img.shape[0]/scale) ) )\n",
    "    \n",
    "    res1, res2, res3, res4 = processImg(imgProcess)\n",
    "    \n",
    "    fig.add_subplot(factors[0],factors[1],counter)\n",
    "    counter += 1\n",
    "    plt.imshow(img) # plot original image  \n",
    "      \n",
    "    fig.add_subplot(factors[0],factors[1],counter)\n",
    "    counter += 1\n",
    "    outputResult = res1 #cv2.resize(res1, (img.shape[1], img.shape[0]))\n",
    "    plt.imshow(outputResult) \n",
    "    \n",
    "    fig.add_subplot(factors[0],factors[1],counter)\n",
    "    counter += 1\n",
    "    outputResult = res2 #cv2.resize(res2, (img.shape[1], img.shape[0]))\n",
    "    plt.imshow(outputResult, cmap=\"gray\") \n",
    "    \n",
    "    fig.add_subplot(factors[0],factors[1],counter)\n",
    "    counter += 1\n",
    "    outputResult = res3*255. #cv2.resize(res3, (img.shape[1], img.shape[0]))\n",
    "    plt.imshow(outputResult) \n",
    "    \n",
    "    fig.add_subplot(factors[0],factors[1],counter)\n",
    "    counter += 1\n",
    "    outputResult = res4*255. #cv2.resize(res4, (img.shape[1], img.shape[0]))\n",
    "    plt.imshow(outputResult) "
   ]
  },
  {
   "cell_type": "code",
   "execution_count": null,
   "metadata": {
    "collapsed": true
   },
   "outputs": [],
   "source": [
    "# I wish all the best for you\n",
    "# Mojtaba Valipour @ Shiraz University"
   ]
  }
 ],
 "metadata": {
  "kernelspec": {
   "display_name": "Python 3",
   "language": "python",
   "name": "python3"
  },
  "language_info": {
   "codemirror_mode": {
    "name": "ipython",
    "version": 3
   },
   "file_extension": ".py",
   "mimetype": "text/x-python",
   "name": "python",
   "nbconvert_exporter": "python",
   "pygments_lexer": "ipython3",
   "version": "3.5.0"
  }
 },
 "nbformat": 4,
 "nbformat_minor": 2
}
