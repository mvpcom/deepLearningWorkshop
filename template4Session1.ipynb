{
 "cells": [
  {
   "cell_type": "markdown",
   "metadata": {},
   "source": [
    "##### <h1>Deep Learning Workshop</h1>\n",
    "<br>\n",
    "<a href=\"http://home.cse.shirazu.ac.ir/~m.valipour/\">Mojtaba Valipour</a> @ Shiraz University\n",
    "\n",
    "<h5> Template Code for Session 1 </h5>\n",
    "<div style=\"float:right;margin:0 10px 10px 0\" markdown=\"1\">\n",
    "![tfImage](elements/images/tensorflow.png)\n",
    "</div>\n",
    "<p><strong><span class=\"a\"></span></strong> <span class=\"b\"></span> <span></span></p>"
   ]
  },
  {
   "cell_type": "markdown",
   "metadata": {},
   "source": [
    "### Examples"
   ]
  },
  {
   "cell_type": "code",
   "execution_count": null,
   "metadata": {
    "collapsed": false
   },
   "outputs": [],
   "source": [
    "x = 10\n",
    "y = x + 1\n",
    "print(y)"
   ]
  },
  {
   "cell_type": "code",
   "execution_count": null,
   "metadata": {
    "collapsed": false
   },
   "outputs": [],
   "source": [
    "import tensorflow as tf\n",
    "\n",
    "x = tf.constant(10, name='x')\n",
    "y = tf.Variable(x + 1, name='y')\n",
    "\n",
    "print(y)"
   ]
  },
  {
   "cell_type": "code",
   "execution_count": null,
   "metadata": {
    "collapsed": false
   },
   "outputs": [],
   "source": [
    "import tensorflow as tf\n",
    "\n",
    "x = tf.constant(10, name='x')\n",
    "y = tf.Variable(x + 1, name='y')\n",
    "\n",
    "model = tf.global_variables_initializer()\n",
    "\n",
    "with tf.Session() as session:\n",
    "    session.run(model)\n",
    "    print(session.run(y))"
   ]
  },
  {
   "cell_type": "code",
   "execution_count": null,
   "metadata": {
    "collapsed": false
   },
   "outputs": [],
   "source": [
    "sess = tf.InteractiveSession()\n",
    "a = tf.constant(5.0)\n",
    "b = tf.constant(4.0)\n",
    "c = a * b\n",
    "print(c.eval()) # We can just use 'c.eval()' without passing 'sess'\n",
    "sess.close()"
   ]
  },
  {
   "cell_type": "code",
   "execution_count": null,
   "metadata": {
    "collapsed": false
   },
   "outputs": [],
   "source": [
    "import tensorflow as tf\n",
    "\n",
    "x = tf.placeholder(\"float\", 3)\n",
    "y = x * 4\n",
    "\n",
    "with tf.Session() as session:\n",
    "    result = session.run(y, feed_dict={x: [1, 2, 3]})\n",
    "    print(result)"
   ]
  },
  {
   "cell_type": "code",
   "execution_count": null,
   "metadata": {
    "collapsed": false
   },
   "outputs": [],
   "source": [
    "import tensorflow as tf\n",
    "\n",
    "x = tf.placeholder(\"float\", None)\n",
    "y = x * 4\n",
    "\n",
    "with tf.Session() as session:\n",
    "    result = session.run(y, feed_dict={x: [1, 2, 3, 4]})\n",
    "    print(result)"
   ]
  },
  {
   "cell_type": "code",
   "execution_count": null,
   "metadata": {
    "collapsed": false
   },
   "outputs": [],
   "source": [
    "sess = tf.InteractiveSession()\n",
    "x = tf.ones([2, 3], tf.int32)\n",
    "print(x)\n",
    "y = tf.constant([[1,1,1],[2,2,2]])\n",
    "print(y.eval())\n",
    "z = tf.add(x, y, name='sampleAdder')\n",
    "print(z.eval())"
   ]
  },
  {
   "cell_type": "code",
   "execution_count": null,
   "metadata": {
    "collapsed": true
   },
   "outputs": [],
   "source": [
    "# practice with other valid arithmetic operators \n",
    "x = tf.ones([2, 3], tf.int32)\n",
    "y = tf.constant([[1,1,1],[2,2,2]])\n",
    "# z = ? # Please add your code here"
   ]
  },
  {
   "cell_type": "code",
   "execution_count": null,
   "metadata": {
    "collapsed": false
   },
   "outputs": [],
   "source": [
    "sess = tf.InteractiveSession()\n",
    "x = -1 * tf.ones([2, 3], tf.int32)\n",
    "print(x.eval())\n",
    "z = tf.abs(x, name=\"absSample\")\n",
    "print(z.eval())"
   ]
  },
  {
   "cell_type": "code",
   "execution_count": null,
   "metadata": {
    "collapsed": false
   },
   "outputs": [],
   "source": [
    "sess = tf.InteractiveSession()\n",
    "x = tf.constant([[2, 2], [3, 3]])\n",
    "y = tf.constant([[1, 4], [5, 3]])\n",
    "z = tf.pow(x, y)\n",
    "print(z.eval())"
   ]
  },
  {
   "cell_type": "code",
   "execution_count": null,
   "metadata": {
    "collapsed": true
   },
   "outputs": [],
   "source": [
    "# practice with other valid basic math functions \n",
    "x = tf.constant([[2, 2], [3, 3]])\n",
    "y = tf.constant([[1, 4], [5, 3]])\n",
    "# z = ? # Please add your code here"
   ]
  },
  {
   "cell_type": "code",
   "execution_count": null,
   "metadata": {
    "collapsed": false
   },
   "outputs": [],
   "source": [
    "import numpy as np\n",
    "sess = tf.InteractiveSession()\n",
    "a = tf.constant(np.arange(1, 13, dtype=np.int32),\n",
    "                shape=[2, 2, 3])                \n",
    "b = tf.constant(np.arange(13, 25, dtype=np.int32),\n",
    "                shape=[2, 3, 2])                \n",
    "c = tf.matmul(a, b) \n",
    "print(c.eval())"
   ]
  },
  {
   "cell_type": "code",
   "execution_count": null,
   "metadata": {
    "collapsed": true
   },
   "outputs": [],
   "source": [
    "# practice with other valid matrix math functions \n",
    "a = tf.constant(np.arange(1, 13, dtype=np.int32),\n",
    "                shape=[2, 2, 3])                \n",
    "b = tf.constant(np.arange(13, 25, dtype=np.int32),\n",
    "                shape=[2, 3, 2])  \n",
    "# z = ? # Please add your code here"
   ]
  },
  {
   "cell_type": "markdown",
   "metadata": {},
   "source": [
    "### Understanding Dataset "
   ]
  },
  {
   "cell_type": "code",
   "execution_count": null,
   "metadata": {
    "collapsed": false
   },
   "outputs": [],
   "source": [
    "# input data for mnist\n",
    "from tensorflow.examples.tutorials.mnist import input_data\n",
    "mnist = input_data.read_data_sets('MNIST_data', one_hot=True)"
   ]
  },
  {
   "cell_type": "code",
   "execution_count": null,
   "metadata": {
    "collapsed": true
   },
   "outputs": [],
   "source": [
    "# These are just helper functions, don't bother yourself to learn now\n",
    "def displayDigit(image, label, num):\n",
    "    label = label.argmax(axis=0)\n",
    "    image = image.reshape([28,28])\n",
    "    plt.title('Example: %d  Label: %d' % (num, label))\n",
    "    plt.imshow(image, cmap=plt.get_cmap('gray_r'))\n",
    "    plt.show()\n",
    "\n",
    "def displayMultFlat(dataset, start, stop):\n",
    "    images = dataset[start].reshape([1,784])\n",
    "    for i in range(start+1,stop):\n",
    "        images = np.concatenate((images, dataset[i].reshape([1,784])))\n",
    "    plt.imshow(images, cmap=plt.get_cmap('gray_r'))\n",
    "    plt.show()"
   ]
  },
  {
   "cell_type": "code",
   "execution_count": null,
   "metadata": {
    "collapsed": false
   },
   "outputs": [],
   "source": [
    "import numpy as np\n",
    "import matplotlib.pyplot as plt\n",
    "\n",
    "random = np.random.randint(0, 55000)\n",
    "image = mnist.train.images[random,:]\n",
    "label = mnist.train.labels[random,:]\n",
    "displayDigit(image, label, random)"
   ]
  },
  {
   "cell_type": "code",
   "execution_count": null,
   "metadata": {
    "collapsed": false
   },
   "outputs": [],
   "source": [
    "displayMultFlat(mnist.train.images[0:300,:], 0, 300)"
   ]
  },
  {
   "cell_type": "markdown",
   "metadata": {},
   "source": [
    "### Batch Gradient Descent "
   ]
  },
  {
   "cell_type": "code",
   "execution_count": null,
   "metadata": {
    "collapsed": false
   },
   "outputs": [],
   "source": [
    "x = tf.placeholder(tf.float32, [None, 784]) # input\n",
    "y = tf.placeholder(tf.float32, [None, 10]) # Ground Truth\n",
    "\n",
    "wFC1 = tf.Variable(tf.random_normal([784, 1024]))\n",
    "bFC1 = tf.Variable(tf.random_normal([1024]))\n",
    "\n",
    "fc1 = tf.add(tf.matmul(x, wFC1), bFC1)\n",
    "fc1 = tf.nn.relu(fc1)\n",
    "\n",
    "# output\n",
    "wOut = tf.Variable(tf.random_normal([1024, 10]))\n",
    "bOut = tf.Variable(tf.random_normal([10]))\n",
    "\n",
    "output = tf.add(tf.matmul(fc1, wOut), bOut) \n",
    "\n",
    "# train the network\n",
    "pred = output\n",
    "\n",
    "# Define loss and optimizer\n",
    "cost = tf.reduce_mean(tf.nn.softmax_cross_entropy_with_logits(logits=pred, labels=y))\n",
    "optimizer = tf.train.AdamOptimizer(learning_rate=0.001).minimize(cost)\n",
    "\n",
    "# Evaluate model\n",
    "correctPred = tf.equal(tf.argmax(pred, 1), tf.argmax(y, 1))\n",
    "accuracy = tf.reduce_mean(tf.cast(correctPred, tf.float32))\n",
    "\n",
    "# Initializing the variables\n",
    "sess = tf.Session()\n",
    "init = tf.global_variables_initializer()\n",
    "sess.run(init)\n",
    "numTrain = 5500\n",
    "numTest = 1000\n",
    "\n",
    "for i in range(5):\n",
    "    sess.run(optimizer, feed_dict={x: mnist.train.images[:numTrain,:], y: mnist.train.labels[:numTrain,:]})\n",
    "    print('Training Step:' + str(i) + '  Accuracy =  ' + str(sess.run(accuracy, feed_dict={x: mnist.test.images[:numTest,:], y: mnist.test.labels[:numTest,:]})) + '  Loss = ' + str(sess.run(cost, {x: mnist.test.images[:numTest,:], y: mnist.test.labels[:numTest,:]})))"
   ]
  },
  {
   "cell_type": "markdown",
   "metadata": {},
   "source": [
    "### Mini Batch Fully Connected "
   ]
  },
  {
   "cell_type": "code",
   "execution_count": null,
   "metadata": {
    "collapsed": false
   },
   "outputs": [],
   "source": [
    "# train again with mini batch\n",
    "import tensorflow as tf\n",
    "tf.reset_default_graph()\n",
    "x = tf.placeholder(tf.float32, [None, 784])\n",
    "y = tf.placeholder(tf.float32, [None, 10])\n",
    "wFC1 = tf.Variable(tf.random_normal([784, 1024]))\n",
    "bFC1 = tf.Variable(tf.random_normal([1024]))\n",
    "\n",
    "fc1 = tf.add(tf.matmul(x, wFC1), bFC1)\n",
    "fc1 = tf.nn.relu(fc1)\n",
    "\n",
    "# output\n",
    "wOut = tf.Variable(tf.random_normal([1024, 10]))\n",
    "bOut = tf.Variable(tf.random_normal([10]))\n",
    "\n",
    "output = tf.add(tf.matmul(fc1, wOut), bOut) \n",
    "\n",
    "pred = output\n",
    "cost = tf.reduce_mean(tf.nn.softmax_cross_entropy_with_logits(logits=pred, labels=y))\n",
    "optimizer = tf.train.AdamOptimizer(learning_rate=0.001).minimize(cost)\n",
    "correctPred = tf.equal(tf.argmax(pred, 1), tf.argmax(y, 1))\n",
    "accuracy = tf.reduce_mean(tf.cast(correctPred, tf.float32))\n",
    "\n",
    "sess = tf.Session()\n",
    "init = tf.global_variables_initializer()\n",
    "sess.run(init)\n",
    "\n",
    "batchSize = 10\n",
    "numEpoch = 5\n",
    "numTrain = 5500\n",
    "numTest = 1000\n",
    "for i in range(numEpoch): # epoch\n",
    "    for j in range(numTrain//batchSize): #mini batch\n",
    "        batchX, batchY = mnist.train.next_batch(batchSize)\n",
    "        sess.run(optimizer, feed_dict={x: batchX, y: batchY})\n",
    "    print('Training Step:' + str(i) + '  Accuracy =  ' + str(sess.run(accuracy, feed_dict={x: mnist.test.images[:numTest,:], y: mnist.test.labels[:numTest,:]})) + '  Loss = ' + str(sess.run(cost, {x: mnist.test.images[:numTest,:], y: mnist.test.labels[:numTest,:]})))"
   ]
  },
  {
   "cell_type": "markdown",
   "metadata": {},
   "source": [
    "### CNN "
   ]
  },
  {
   "cell_type": "code",
   "execution_count": null,
   "metadata": {
    "collapsed": true
   },
   "outputs": [],
   "source": [
    "import tensorflow as tf\n",
    "tf.reset_default_graph()\n",
    "# x = ?\n",
    "y = tf.placeholder(tf.float32, [None, 10])\n",
    "\n",
    "wC1 = tf.Variable(tf.random_normal([5, 5, 1, 32]))\n",
    "bC1 = tf.Variable(tf.random_normal([32]))\n",
    "\n",
    "stride = 1\n",
    "xReshap = tf.reshape(x, shape=[-1, 28, 28, 1])\n",
    "conv1 = tf.nn.conv2d(xReshap, wC1, strides=[1, stride, stride, 1], padding='SAME')\n",
    "conv1 = tf.nn.bias_add(conv1, bC1)\n",
    "conv1 = tf.nn.relu(conv1)\n",
    "\n",
    "kernelSize = 2 # max pooling\n",
    "conv1 = tf.nn.max_pool(conv1, ksize=[1, kernelSize, kernelSize, 1], strides=[1, kernelSize, kernelSize, 1],\n",
    "                          padding='SAME')\n",
    "\n",
    "\n",
    "# Please put the right number in the right place and replace questions marks\n",
    "# after that you can uncomment those lines\n",
    "# wC2 = tf.Variable(tf.random_normal([?, ?, 32, 64]))\n",
    "# bC2 = tf.Variable(tf.random_normal([?]))\n",
    "\n",
    "stride = 1\n",
    "# conv2 = tf.nn.conv2d(?, wC2, strides=[1, stride, stride, 1], padding='SAME')\n",
    "conv2 = tf.nn.bias_add(conv2, bC2)\n",
    "conv2 = tf.nn.relu(conv2)\n",
    "\n",
    "kernelSize = 2\n",
    "conv2 = tf.nn.max_pool(conv2, ksize=[1, kernelSize, kernelSize, 1], strides=[1, kernelSize, kernelSize, 1],\n",
    "                          padding='SAME')\n",
    "\n",
    "fc1 = tf.reshape(conv2, [-1, 64*7*7])\n",
    "print(fc1.get_shape())\n",
    "\n",
    "# wFC1 = ?\n",
    "bFC1 = tf.Variable(tf.random_normal([1024]))\n",
    "\n",
    "fc1 = tf.add(tf.matmul(fc1, wFC1), bFC1)\n",
    "fc1 = tf.nn.relu(fc1)\n",
    "\n",
    "# output\n",
    "wOut = tf.Variable(tf.random_normal([1024, 10]))\n",
    "bOut = tf.Variable(tf.random_normal([10]))\n",
    "\n",
    "output = tf.add(tf.matmul(fc1, wOut), bOut) \n",
    "\n",
    "pred = output\n",
    "cost = tf.reduce_mean(tf.nn.softmax_cross_entropy_with_logits(logits=pred, labels=y))\n",
    "optimizer = tf.train.AdamOptimizer(learning_rate=0.001).minimize(cost)\n",
    "# correctPred = tf.equal(tf.argmax(?, 1), tf.argmax(?, 1))\n",
    "accuracy = tf.reduce_mean(tf.cast(correctPred, tf.float32))\n",
    "\n",
    "sess = tf.Session()\n",
    "init = tf.global_variables_initializer()\n",
    "sess.run(init)\n",
    "\n",
    "batchSize = 10\n",
    "numEpoch = 5\n",
    "numTrain = 5500\n",
    "numTest = 1000\n",
    "for i in range(numEpoch): # epoch\n",
    "    for j in range(numTrain//batchSize): #mini batch\n",
    "        batchX, batchY = mnist.train.next_batch(batchSize)\n",
    "        sess.run(optimizer, feed_dict={x: batchX, y: batchY})\n",
    "    print('Training Step:' + str(i) + '  Accuracy =  ' + str(sess.run(accuracy, feed_dict={x: mnist.test.images[:numTest,:], y: mnist.test.labels[:numTest,:]})) + '  Loss = ' + str(sess.run(cost, {x: mnist.test.images[:numTest,:], y: mnist.test.labels[:numTest,:]})))"
   ]
  },
  {
   "cell_type": "markdown",
   "metadata": {},
   "source": [
    "### Tensorboard"
   ]
  },
  {
   "cell_type": "code",
   "execution_count": null,
   "metadata": {
    "collapsed": true
   },
   "outputs": [],
   "source": [
    "import tensorflow as tf\n",
    "\n",
    "x = tf.constant(10, name='x')\n",
    "y = tf.Variable(x + 1, name='y')\n",
    "\n",
    "with tf.Session() as session:\n",
    "    merged = tf.summary.merge_all()\n",
    "    writer = tf.summary.FileWriter(\"./tmp/basic\", session.graph)\n",
    "    model =  tf.global_variables_initializer()\n",
    "    session.run(model)\n",
    "    print(session.run(y))"
   ]
  },
  {
   "cell_type": "markdown",
   "metadata": {},
   "source": [
    "Please run this command in your command line interface \n",
    "```bash\n",
    "tensorboard --logdir=./tmp/basic\n",
    "```\n"
   ]
  },
  {
   "cell_type": "code",
   "execution_count": null,
   "metadata": {
    "collapsed": true
   },
   "outputs": [],
   "source": [
    "# I wish you all the best \n",
    "# Mojtaba Valipour @ Shiraz University"
   ]
  }
 ],
 "metadata": {
  "kernelspec": {
   "display_name": "Python 3",
   "language": "python",
   "name": "python3"
  },
  "language_info": {
   "codemirror_mode": {
    "name": "ipython",
    "version": 3
   },
   "file_extension": ".py",
   "mimetype": "text/x-python",
   "name": "python",
   "nbconvert_exporter": "python",
   "pygments_lexer": "ipython3",
   "version": "3.5.0"
  }
 },
 "nbformat": 4,
 "nbformat_minor": 2
}
